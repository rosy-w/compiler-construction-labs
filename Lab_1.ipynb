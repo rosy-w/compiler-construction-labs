{
  "nbformat": 4,
  "nbformat_minor": 0,
  "metadata": {
    "colab": {
      "provenance": [],
      "authorship_tag": "ABX9TyP+L28ECUHa4cCAHmeyW9Ri",
      "include_colab_link": true
    },
    "kernelspec": {
      "name": "python3",
      "display_name": "Python 3"
    },
    "language_info": {
      "name": "python"
    }
  },
  "cells": [
    {
      "cell_type": "markdown",
      "metadata": {
        "id": "view-in-github",
        "colab_type": "text"
      },
      "source": [
        "<a href=\"https://colab.research.google.com/github/rosywaruku/compiler-construction-labs/blob/main/Lab_1.ipynb\" target=\"_parent\"><img src=\"https://colab.research.google.com/assets/colab-badge.svg\" alt=\"Open In Colab\"/></a>"
      ]
    },
    {
      "cell_type": "markdown",
      "source": [
        "##120749 Rosy Waruku"
      ],
      "metadata": {
        "id": "vlyM0YavxW0c"
      }
    },
    {
      "cell_type": "markdown",
      "source": [
        "## Lab Activity 1\n",
        "Give brief descriptions of the following tools:\n",
        "\n",
        "Flex, Bison, Lex, Yacc\n",
        "\n",
        "The description should have: 3-5 lines definition, diagram and code snippet\n",
        "\n",
        "Submit a text file having the link to your Github repo having the colab/jupyter nb file."
      ],
      "metadata": {
        "id": "kdO3a5qdxGqN"
      }
    },
    {
      "cell_type": "markdown",
      "source": [
        "###Flex\n",
        "**Definition**\n",
        "\n",
        "**Diagram**"
      ],
      "metadata": {
        "id": "03Nx-PJ3x0Tf"
      }
    },
    {
      "cell_type": "code",
      "source": [],
      "metadata": {
        "id": "U1_LLGuHx5yn"
      },
      "execution_count": null,
      "outputs": []
    },
    {
      "cell_type": "markdown",
      "source": [
        "###Bison\n",
        "**Definition**\n",
        "\n",
        "**Diagram**"
      ],
      "metadata": {
        "id": "QvlENpEJx6I3"
      }
    },
    {
      "cell_type": "code",
      "source": [],
      "metadata": {
        "id": "D_h54IDox8D0"
      },
      "execution_count": null,
      "outputs": []
    },
    {
      "cell_type": "markdown",
      "source": [
        "###Lex\n",
        "**Definition**\n",
        "\n",
        "**Diagram**"
      ],
      "metadata": {
        "id": "1CChvFoJx9Fh"
      }
    },
    {
      "cell_type": "code",
      "source": [],
      "metadata": {
        "id": "RKQbwgWcyOyi"
      },
      "execution_count": null,
      "outputs": []
    },
    {
      "cell_type": "markdown",
      "source": [
        "###Yacc\n",
        "**Definition**\n",
        "\n",
        "**Diagram**"
      ],
      "metadata": {
        "id": "jFEdj3rAyQIp"
      }
    },
    {
      "cell_type": "code",
      "source": [],
      "metadata": {
        "id": "1W7JRJXLySrC"
      },
      "execution_count": null,
      "outputs": []
    }
  ]
}